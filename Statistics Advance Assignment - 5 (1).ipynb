{
 "cells": [
  {
   "cell_type": "markdown",
   "id": "63d09f5d-eea7-446c-ab09-2182ef2ecbd5",
   "metadata": {},
   "source": [
    "Q1. Calculate the 95% confidence interval for a sample of data with a mean of 50 and a standard deviation\n",
    "of 5 using Python. Interpret the results."
   ]
  },
  {
   "cell_type": "code",
   "execution_count": 1,
   "id": "1dbda8fc-8a4a-447f-ad95-a5be9ad0ea5a",
   "metadata": {},
   "outputs": [],
   "source": [
    "#Answer\n",
    "import scipy.stats as stats"
   ]
  },
  {
   "cell_type": "code",
   "execution_count": 2,
   "id": "144a81bf-1fd1-43e8-bc3d-7f36872a9ed2",
   "metadata": {},
   "outputs": [
    {
     "name": "stdout",
     "output_type": "stream",
     "text": [
      "Sample Mean: 50\n",
      "Sample Standard Deviation: 5\n",
      "Sample Size: 30\n",
      "Standard Error: 0.91\n",
      "Margin of Error: 1.79\n",
      "95% Confidence Interval: (48.21, 51.79)\n"
     ]
    }
   ],
   "source": [
    "# Sample statistics\n",
    "\n",
    "sample_mean = 50\n",
    "sample_std_dev = 5\n",
    "confidence_level = 0.95\n",
    "\n",
    "# Sample size\n",
    "\n",
    "sample_size = 30  # lets assume sample_size is 30\n",
    "\n",
    "# Calculation of Standard error\n",
    "\n",
    "standard_error = sample_std_dev/(sample_size**0.5)\n",
    "\n",
    "# calculation of margin of error\n",
    "# For a 95% confidence level, the critical value is approximately 1.96\n",
    "margin_of_error = 1.96* standard_error\n",
    "\n",
    "\n",
    "\n",
    "# calculation of Confidence Interval:_\n",
    "lower_bound = sample_mean - margin_of_error\n",
    "upper_bound =  sample_mean + margin_of_error\n",
    "\n",
    "\n",
    "# Print the results\n",
    "print(f\"Sample Mean: {sample_mean}\")\n",
    "print(f\"Sample Standard Deviation: {sample_std_dev}\")\n",
    "print(f\"Sample Size: {sample_size}\")\n",
    "print(f\"Standard Error: {standard_error:.2f}\")\n",
    "print(f\"Margin of Error: {margin_of_error:.2f}\")\n",
    "print(f\"95% Confidence Interval: ({lower_bound:.2f}, {upper_bound:.2f})\")"
   ]
  },
  {
   "cell_type": "markdown",
   "id": "476da803-09b6-4c26-9f07-7110ea22867d",
   "metadata": {},
   "source": [
    "Conclusion:___ Iam 90% confident that the based on sample observation mean value lies between 48.21 and 51.79"
   ]
  },
  {
   "cell_type": "markdown",
   "id": "d768ab2e-88b4-43b3-a1dd-6c72edbb4923",
   "metadata": {},
   "source": [
    "                      -------------------------------------------------------------------"
   ]
  },
  {
   "cell_type": "markdown",
   "id": "ed3bf156-9c53-4864-aa2f-a0aaf6f4e121",
   "metadata": {},
   "source": [
    "Q2. conduct a chi-square goodness of fit test to determine if the distribution of colors of M&Ms in a bag\n",
    "matches the expected distribution of 20% blue, 20% orange, 20% green, 10% yellow, 10% red, and 20%\n",
    "brown. Use Python to perform the test with a significance level of 0.05."
   ]
  },
  {
   "cell_type": "code",
   "execution_count": 14,
   "id": "83aa704a-fa4b-4e0c-9a2f-a27f0a2527f2",
   "metadata": {},
   "outputs": [
    {
     "name": "stdout",
     "output_type": "stream",
     "text": [
      "The distribution of M&M colors matches the expected distribution.\n",
      "Chi-square statistic: 5.54\n",
      "P-value: 0.3540\n",
      "Critical value: 11.07\n"
     ]
    }
   ],
   "source": [
    "#Answer\n",
    "import scipy.stats as stats\n",
    "import numpy as np\n",
    "\n",
    "\n",
    "# Define the observed data (actual counts)\n",
    "observed_counts = [30, 25, 24, 11, 12, 38]  # Counts for Blue, Orange, Green, Yellow, Red, Brown\n",
    "\n",
    "# Define the expected proportions based on the expected distribution\n",
    "expected_proportions = [0.20, 0.20, 0.20, 0.10, 0.10, 0.20]\n",
    "\n",
    "# Calculate the expected counts based on the expected proportions and the total count\n",
    "total_count = sum(observed_counts)\n",
    "expected_counts = [prop * total_count for prop in expected_proportions]\n",
    "\n",
    "# Perform the chi-square goodness of fit test\n",
    "chi2, p_value = stats.chisquare(f_obs=observed_counts, f_exp=expected_counts)\n",
    "\n",
    "# Define the significance level (alpha)\n",
    "alpha = 0.05\n",
    "\n",
    "# Determine the degrees of freedom (df) for the chi-square test\n",
    "df = len(observed_counts) - 1  # (number of categories - 1)\n",
    "\n",
    "# Find the critical value from the chi-square distribution for the given alpha and degrees of freedom\n",
    "critical_value = stats.chi2.ppf(1 - alpha, df)\n",
    "\n",
    "# Compare the chi-square statistic to the critical value\n",
    "if chi2 > critical_value:\n",
    "    print(\"The distribution of M&M colors is significantly different from the expected distribution.\")\n",
    "else:\n",
    "    print(\"The distribution of M&M colors matches the expected distribution.\")\n",
    "\n",
    "# Print the chi-square statistic, p-value, and critical value\n",
    "print(f\"Chi-square statistic: {chi2:.2f}\")\n",
    "print(f\"P-value: {p_value:.4f}\")\n",
    "print(f\"Critical value: {critical_value:.2f}\")\n",
    "\n"
   ]
  },
  {
   "cell_type": "markdown",
   "id": "61e7fe27-1fe2-442b-9990-ddf2b4958328",
   "metadata": {},
   "source": [
    "                      -------------------------------------------------------------------"
   ]
  },
  {
   "cell_type": "markdown",
   "id": "3ff12897-58c3-4b1d-b825-5fea93c89569",
   "metadata": {},
   "source": [
    "Q3. Use Python to calculate the chi-square statistic and p-value for a contingency table with the following data"
   ]
  },
  {
   "cell_type": "raw",
   "id": "a73dae38-8597-4652-93d2-4a56dc402728",
   "metadata": {},
   "source": [
    "                      Group_A               Group_B\n",
    "               \n",
    "Outcome1    :          20                     15\n",
    "\n",
    "Outcome2    :          10                     25\n",
    "\n",
    "Outcome3    :          15                     20\n",
    "\n",
    "\n",
    "\n",
    "Interpret the results of the test."
   ]
  },
  {
   "cell_type": "code",
   "execution_count": 16,
   "id": "c4a31648-0450-4cfb-939c-2fdc5b78a13c",
   "metadata": {},
   "outputs": [
    {
     "name": "stdout",
     "output_type": "stream",
     "text": [
      "Chi-square statistic: 5.83\n",
      "P-value: 0.0541\n",
      "The p-value is greater than or equal to the significance level (alpha). We fail to reject the null hypothesis.\n",
      "There is no evidence of an association between the two groups (Group_A and Group_B).\n"
     ]
    }
   ],
   "source": [
    "import scipy.stats as stats\n",
    "import numpy as np\n",
    "\n",
    "# Define the contingency table\n",
    "observed_data = np.array([[20, 15],\n",
    "                          [10, 25],\n",
    "                          [15, 20]])\n",
    "\n",
    "# Perform the chi-square test for independence\n",
    "chi2, p_value, _, _ = stats.chi2_contingency(observed_data)\n",
    "\n",
    "# Define the significance level (alpha)\n",
    "alpha = 0.05\n",
    "\n",
    "# Print the chi-square statistic and p-value\n",
    "print(f\"Chi-square statistic: {chi2:.2f}\")\n",
    "print(f\"P-value: {p_value:.4f}\")\n",
    "\n",
    "# Interpret the results\n",
    "if p_value < alpha:\n",
    "    print(\"The p-value is less than the significance level (alpha). We reject the null hypothesis.\")\n",
    "    print(\"There is evidence of an association between the two groups (Group_A and Group_B).\")\n",
    "else:\n",
    "    print(\"The p-value is greater than or equal to the significance level (alpha). We fail to reject the null hypothesis.\")\n",
    "    print(\"There is no evidence of an association between the two groups (Group_A and Group_B).\")\n"
   ]
  },
  {
   "cell_type": "markdown",
   "id": "ab68aa9b-06e7-48ba-9454-ab662e3c7fc2",
   "metadata": {},
   "source": [
    "                      -------------------------------------------------------------------"
   ]
  },
  {
   "cell_type": "markdown",
   "id": "c24d3ada-7ba1-4f7b-85d3-0b96ca5b8ae6",
   "metadata": {},
   "source": [
    "Q4. A study of the prevalence of smoking in a population of 500 individuals found that 60 individuals\n",
    "smoked. Use Python to calculate the 95% confidence interval for the true proportion of individuals in the\n",
    "population who smoke."
   ]
  },
  {
   "cell_type": "code",
   "execution_count": 17,
   "id": "d01c6029-65e5-4fe4-aa1a-cd5c9feb57f6",
   "metadata": {},
   "outputs": [
    {
     "name": "stdout",
     "output_type": "stream",
     "text": [
      "Sample Proportion (p-hat): 0.1200\n",
      "95% Confidence Interval: (0.0915, 0.1485)\n"
     ]
    }
   ],
   "source": [
    "#Answer\n",
    "\n",
    "import scipy.stats as stats\n",
    "import math\n",
    "\n",
    "# Given data\n",
    "N = 500  # Total population size\n",
    "X = 60   # Number of individuals who smoke\n",
    "\n",
    "# Calculate the sample proportion\n",
    "p_hat = X / N\n",
    "\n",
    "# Define the confidence level and find the critical Z-score\n",
    "confidence_level = 0.95\n",
    "alpha = 1 - confidence_level\n",
    "z_critical = stats.norm.ppf(1 - alpha / 2)  # Z-score for a two-tailed 95% confidence interval\n",
    "\n",
    "# Calculate the margin of error\n",
    "margin_of_error = z_critical * math.sqrt((p_hat * (1 - p_hat)) / N)\n",
    "\n",
    "# Calculate the confidence interval\n",
    "lower_bound = p_hat - margin_of_error\n",
    "upper_bound = p_hat + margin_of_error\n",
    "\n",
    "# Print the results\n",
    "print(f\"Sample Proportion (p-hat): {p_hat:.4f}\")\n",
    "print(f\"95% Confidence Interval: ({lower_bound:.4f}, {upper_bound:.4f})\")"
   ]
  },
  {
   "cell_type": "markdown",
   "id": "cefbaf43-6ff9-49ad-b189-2a56c6f188e8",
   "metadata": {},
   "source": [
    "                      -------------------------------------------------------------------"
   ]
  },
  {
   "cell_type": "markdown",
   "id": "98c54341-94cd-463a-94c6-51923e5b88b4",
   "metadata": {},
   "source": [
    "Q5. Calculate the 90% confidence interval for a sample of data with a mean of 75 and a standard deviation\n",
    "of 12 using Python. Interpret the results."
   ]
  },
  {
   "cell_type": "code",
   "execution_count": 28,
   "id": "c67726a7-8ae8-46db-b04c-93fda859241d",
   "metadata": {},
   "outputs": [
    {
     "name": "stdout",
     "output_type": "stream",
     "text": [
      "Sample_mean : 75\n",
      "Sample_std : 12\n",
      "Sample_size : 30\n",
      "Standard_error : 2.19\n",
      "Margin_error : 3.59\n",
      "90% Confidence interval : 78.59, 71.41\n"
     ]
    }
   ],
   "source": [
    "#Answer\n",
    "import scipy.stats as stats\n",
    "# sample data:\n",
    "sample_mean = 75\n",
    "sample_std = 12\n",
    "\n",
    "# assume a sample size to be 30\n",
    "sample_size = 30\n",
    "\n",
    "# calculation of standard error\n",
    "standard_error = sample_std / ( sample_size**0.5)\n",
    "\n",
    "# calculation of margin of error:\n",
    "# for 90% confidenceinterval, critical value is approximately 1.64\n",
    "\n",
    "margin_error = 1.64*standard_error\n",
    "\n",
    "# calculating confidence interval:\n",
    "lower_bound = sample_mean - margin_error   \n",
    "upper_bound = sample_mean + margin_error\n",
    "\n",
    "# interpret the results:\n",
    "print(f\"Sample_mean : {sample_mean}\")\n",
    "print(f\"Sample_std : {sample_std}\")\n",
    "print(f\"Sample_size : {sample_size}\")\n",
    "print(f\"Standard_error : {standard_error:.2f}\")\n",
    "print(f\"Margin_error : {margin_error:.2f}\")\n",
    "print(f\"90% Confidence interval : {upper_bound:.2f}, {lower_bound:.2f}\") "
   ]
  },
  {
   "cell_type": "markdown",
   "id": "ac2acd9d-b63e-4dc8-a401-27ea8a847677",
   "metadata": {},
   "source": [
    "Conclusion:__ yes iam 90% confident that based on sample observation mean value lies between 71.41 and 78.59"
   ]
  },
  {
   "cell_type": "markdown",
   "id": "4bd56842-96dd-463e-9a53-abe5f7acc2c6",
   "metadata": {},
   "source": [
    "                       -------------------------------------------------------------------"
   ]
  },
  {
   "cell_type": "markdown",
   "id": "6a044a5e-9d00-4bcc-a8bc-c2e854567b0f",
   "metadata": {},
   "source": [
    "Q6. Use Python to plot the chi-square distribution with 10 degrees of freedom. Label the axes and shade the\n",
    "area corresponding to a chi-square statistic of 15."
   ]
  },
  {
   "cell_type": "code",
   "execution_count": 29,
   "id": "e56c2925-c023-4f09-be5d-2b3737280d6d",
   "metadata": {},
   "outputs": [
    {
     "data": {
      "image/png": "[encoded data removed]",
      "text/plain": [
       "<Figure size 800x600 with 1 Axes>"
      ]
     },
     "metadata": {},
     "output_type": "display_data"
    }
   ],
   "source": [
    "#Answer\n",
    "\n",
    "import numpy as np\n",
    "import matplotlib.pyplot as plt\n",
    "import scipy.stats as stats\n",
    "\n",
    "# Degrees of freedom\n",
    "df = 10\n",
    "\n",
    "# Calculate a range of x values for the chi-square distribution\n",
    "x = np.linspace(0, 30, 1000)  \n",
    "\n",
    "# Calculation of  chi-square probability density function (PDF)\n",
    "pdf = stats.chi2.pdf(x, df)\n",
    "\n",
    "# Create the plot\n",
    "plt.figure(figsize=(8, 6))\n",
    "plt.plot(x, pdf, 'b-', label=f'Chi-Square Distribution (df={df})')\n",
    "\n",
    "# Shade the area corresponding to chi-square statistic of 15\n",
    "x_shaded = np.linspace(0, 15, 1000)\n",
    "pdf_shaded = stats.chi2.pdf(x_shaded, df)\n",
    "plt.fill_between(x_shaded, pdf_shaded, color='gray', alpha=0.5, label='Chi-Square Statistic = 15')\n",
    "\n",
    "# Label axes and add legend\n",
    "plt.xlabel('Chi-Square Statistic')\n",
    "plt.ylabel('Probability Density')\n",
    "plt.legend(loc='upper right')\n",
    "\n",
    "# Show the plot\n",
    "plt.title('Chi-Square Distribution with Shaded Area')\n",
    "plt.grid(True)\n",
    "plt.show()\n"
   ]
  },
  {
   "cell_type": "markdown",
   "id": "f1028c93-086e-49ce-bb1e-f4b64163c3ed",
   "metadata": {},
   "source": [
    "                       -------------------------------------------------------------------"
   ]
  },
  {
   "cell_type": "markdown",
   "id": "540f2d3e-daf1-4289-aca8-7df4485fc401",
   "metadata": {},
   "source": [
    "Q7. A random sample of 1000 people was asked if they preferred Coke or Pepsi. Of the sample, 520\n",
    "preferred Coke. Calculate a 99% confidence interval for the true proportion of people in the population who\n",
    "prefer Coke."
   ]
  },
  {
   "cell_type": "markdown",
   "id": "6089bac0-0984-4adf-ad1d-aadca0a1a323",
   "metadata": {},
   "source": [
    "#Answer\n",
    "Confidence Interval = ^p ± Z squareroot(^p(^p-1)/n)\n",
    "\n",
    "            where, ^p = sample_proportion (the proportion of people in the sample who prefer Coke)\n",
    "    \n",
    "                      = 520/1000 = 0.52\n",
    "        \n",
    "                    Z = critical value\n",
    "            \n",
    "                      for 99 % confidence interval Z is approximately 2.58\n",
    "                \n",
    "                    n = sample_size = 1000\n",
    "                    \n",
    "CI = 0.52 ± 2.58*squareroot(0.52(0.52-1)/1000)\n",
    "\n",
    "   = 0.52 ± 2.58*suareroot(2.496)\n",
    "    \n",
    "    = 0.52 ± 2.58* 0.0157\n",
    "    \n",
    "    = 0.52 ± 0.0405\n",
    "    \n",
    "    Upper bound = 0.52+0.0405 = 0.5605\n",
    "    \n",
    "    lower bound = 0.52 - 0.0405 = 0.4795\n",
    "    \n",
    "Conclusion:__ So, the 99% confidence interval for the true proportion of people in the population who prefer Coke is approximately (0.4793, 0.5607). This means that we are 99% confident that the true proportion of people who prefer Coke in the population falls within this interval."
   ]
  },
  {
   "cell_type": "markdown",
   "id": "c195c9bd-aba6-49ad-a195-6b541eb54fb2",
   "metadata": {},
   "source": [
    "                        -------------------------------------------------------------------"
   ]
  },
  {
   "cell_type": "markdown",
   "id": "0bf97865-33dc-4251-82a7-cce2344ad5e5",
   "metadata": {},
   "source": [
    "Q.8 A researcher hypothesizes that a coin is biased towards tails. They flip the coin 100 times and observe\n",
    "45 tails. Conduct a chi-square goodness of fit test to determine if the observed frequencies match the\n",
    "expected frequencies of a fair coin. Use a significance level of 0.05."
   ]
  },
  {
   "cell_type": "code",
   "execution_count": 12,
   "id": "12a2e4f3-004c-4f68-abd6-9f20a143d0f0",
   "metadata": {},
   "outputs": [
    {
     "name": "stdout",
     "output_type": "stream",
     "text": [
      "Observed data :(45, 55)\n",
      "Expected data :(50.0, 50.0)\n",
      " Chi square test statistic:1.0\n",
      "Critical value:3.841458820694124\n",
      " we accept the null hypothesis (H0);the observed frequencies match the expected frequencies of a fair coin.\n"
     ]
    }
   ],
   "source": [
    "#Answer\n",
    "import scipy.stats as stats\n",
    "# observed data:_\n",
    "\n",
    "observed_tails = 45 \n",
    "observed_heads = 100 -observed_tails\n",
    "\n",
    "# expected data:__\n",
    "expected_tails = 0.5*100\n",
    "expected_heads = 0.5*100\n",
    "\n",
    "observed_data = (observed_tails, observed_heads)\n",
    "expected_data = (expected_tails, expected_heads)\n",
    "\n",
    "# chi square test statistics:\n",
    "\n",
    "chi_square_test_statistic, p_value = stats.chisquare(observed_data, expected_data)\n",
    "\n",
    "# find the critical value\n",
    "\n",
    "significance_value = 0.05\n",
    "dof = len(expected_data)-1\n",
    "\n",
    "critical_value = stats.chi2.ppf(1-significance_value, dof)\n",
    "\n",
    "# Interpret the results:\n",
    "print(f\"Observed data :{observed_data}\")\n",
    "print(f\"Expected data :{expected_data}\")\n",
    "print(f\" Chi square test statistic:{chi_square_test_statistic}\")\n",
    "print(f\"Critical value:{critical_value}\")\n",
    "\n",
    "\n",
    "# conclusion:_\n",
    "if chi_square_test_statistic > critical_value:\n",
    "    print(\"we reject the null hypothesis (H0);the observed frequencies do not match the expected frequencies of a fair coin.\")\n",
    "else:\n",
    "    print(\" we accept the null hypothesis (H0);the observed frequencies match the expected frequencies of a fair coin.\")\n"
   ]
  },
  {
   "cell_type": "markdown",
   "id": "3d317e68-2255-41e0-aa00-ce8528ba4a75",
   "metadata": {},
   "source": [
    "                       -------------------------------------------------------------------"
   ]
  },
  {
   "cell_type": "markdown",
   "id": "77265b34-bb03-479e-92cd-056124191a04",
   "metadata": {},
   "source": [
    "Q9. A study was conducted to determine if there is an association between smoking status (smoker or\n",
    "non-smoker) and lung cancer diagnosis (yes or no). The results are shown in the contingency table below.\n",
    "Conduct a chi-square test for independence to determine if there is a significant association between\n",
    "smoking status and lung cancer diagnosis."
   ]
  },
  {
   "cell_type": "raw",
   "id": "6f9375a5-8c8b-4693-bf6e-51672471e40c",
   "metadata": {},
   "source": [
    "#Answer            Lung Cancer: Yes      Lung Cancer: No\n",
    "\n",
    " Smoker                  60                  140\n",
    "\n",
    " Non-smoker              30                  170\n",
    "\n",
    "\n",
    "Use a significance level of 0.05"
   ]
  },
  {
   "cell_type": "code",
   "execution_count": 18,
   "id": "d3caed4a-ca55-4a6a-ba16-700b6ed2f742",
   "metadata": {},
   "outputs": [
    {
     "name": "stdout",
     "output_type": "stream",
     "text": [
      "Observed data:[[60, 140], [30, 170]]\n",
      "Chi2:12.057347670250895\n",
      "Critical value :3.841458820694124\n",
      "Reject the null hypothesis: There is a significant association between smoking status and lung cancer diagnosis.\n"
     ]
    }
   ],
   "source": [
    "import scipy.stats as stats\n",
    "\n",
    "# Create a contingency table\n",
    "observed_data = [[60, 140], [30, 170]]\n",
    "\n",
    "# calculation of  chi-square test\n",
    "chi2, p, dof, expected = stats.chi2_contingency(observed_data)\n",
    "\n",
    "# Set the significance level\n",
    "alpha = 0.05\n",
    "\n",
    "# Find the critical chi-square value\n",
    "critical_value = stats.chi2.ppf(1 - alpha, dof)\n",
    "\n",
    "# interpret the results :\n",
    "print(f\"Observed data:{observed_data}\")\n",
    "print(f\"Chi2:{chi2}\")\n",
    "print(f\"Critical value :{critical_value}\")\n",
    "\n",
    "# Compare the chi-square statistic to the critical value\n",
    "if chi2 > critical_value:\n",
    "    print(\"Reject the null hypothesis: There is a significant association between smoking status and lung cancer diagnosis.\")\n",
    "else:\n",
    "    print(\"Fail to reject the null hypothesis: There is no significant association between smoking status and lung cancer diagnosis.\")\n"
   ]
  },
  {
   "cell_type": "markdown",
   "id": "12b40014-3274-4116-b663-3f8001b84c8e",
   "metadata": {},
   "source": [
    "                       -------------------------------------------------------------------"
   ]
  },
  {
   "cell_type": "markdown",
   "id": "ebc94043-dae3-4b14-bef7-9b1900132f93",
   "metadata": {},
   "source": [
    "Q10. A random sample of 30 people was selected from a population with an unknown mean and standard\n",
    "deviation. The sample mean was found to be 72 and the sample standard deviation was found to be 10.\n",
    "Conduct a hypothesis test to determine if the population mean is significantly different from 70. Use a\n",
    "significance level of 0.05.\n"
   ]
  },
  {
   "cell_type": "code",
   "execution_count": 1,
   "id": "ad584f30-e442-4669-afc2-cf075737fb21",
   "metadata": {},
   "outputs": [
    {
     "name": "stdout",
     "output_type": "stream",
     "text": [
      "t-statistic: 1.0954451150103321\n",
      "Critical t-value: 2.045229642132703\n",
      "Fail to reject the null hypothesis: No significant difference from 70.\n"
     ]
    }
   ],
   "source": [
    "#Answer\n",
    "\n",
    "import scipy.stats as stats\n",
    "\n",
    "# Given data\n",
    "sample_mean = 72\n",
    "sample_std = 10\n",
    "sample_size = 30\n",
    "population_mean = 70\n",
    "alpha = 0.05\n",
    "\n",
    "# Calculate the standard error of the mean (SE)\n",
    "se = sample_std / (sample_size**0.5)\n",
    "\n",
    "# Calculate the t-statistic\n",
    "t_statistic = (sample_mean - population_mean) / se\n",
    "\n",
    "# Determine the degrees of freedom (df)\n",
    "df = sample_size - 1\n",
    "\n",
    "# Calculate the critical t-value for a two-tailed test at the given alpha\n",
    "critical_value = stats.t.ppf(1 - alpha / 2, df)\n",
    "\n",
    "# Print the results\n",
    "print(f\"t-statistic: {t_statistic}\")\n",
    "print(f\"Critical t-value: {critical_value}\")\n",
    "\n",
    "# Perform the hypothesis test\n",
    "if t_statistic > critical_value:\n",
    "    print(\"Reject the null hypothesis: Population mean is significantly different from 70.\")\n",
    "else:\n",
    "    print(\"Fail to reject the null hypothesis: No significant difference from 70.\")\n",
    "\n",
    "\n",
    "\n",
    "\n"
   ]
  },
  {
   "cell_type": "markdown",
   "id": "4daab68e-4018-43bc-a04e-6f45f48da8cf",
   "metadata": {},
   "source": [
    "                       -------------------------------------------------------------------"
   ]
  },
  {
   "cell_type": "markdown",
   "id": "b0dfbf1d-d413-4beb-9e17-49c2dc11fb9a",
   "metadata": {},
   "source": [
    "Q11. A study was conducted to determine if the proportion of people who prefer milk chocolate, dark\n",
    "chocolate, or white chocolate is different in the U.S. versus the U.K. A random sample of 500 people from\n",
    "the U.S. and a random sample of 500 people from the U.K. were surveyed. The results are shown in the\n",
    "contingency table below. Conduct a chi-square test for independence to determine if there is a significant\n",
    "association between chocolate preference and country of origin."
   ]
  },
  {
   "cell_type": "raw",
   "id": "1ae4343c-8765-4ce1-a185-9d36c660b26e",
   "metadata": {},
   "source": [
    "#Answer           Milk Chocolate     Dark Chocolate    White Chocolate\n",
    " \n",
    "U.S. (n=500)      200                 150                150\n",
    "\n",
    "U.K. (n=500)      225                175                 100\n",
    "\n",
    "Use a significance level of 0.01."
   ]
  },
  {
   "cell_type": "code",
   "execution_count": 19,
   "id": "bc8c2c35-08fa-4d82-aae0-aacb47b6d71d",
   "metadata": {},
   "outputs": [
    {
     "name": "stdout",
     "output_type": "stream",
     "text": [
      "Observed data:[[200, 150, 150], [225, 175, 100]]\n",
      "Chi2:13.393665158371041\n",
      "Critical value :9.21034037197618\n",
      "we reject the null hypothesis (H0);there is a significant association between chocolate preference and country of origin.\n"
     ]
    }
   ],
   "source": [
    "import scipy.stats as stats\n",
    "\n",
    "observed_data = [[200,150,150], [225, 175, 100]]\n",
    "\n",
    "# calculate the chi square test\n",
    "chi2, p, dof, expected = stats.chi2_contingency(observed_data)\n",
    "\n",
    "# calculate significance level \n",
    "alpha = 0.01\n",
    "\n",
    "# Find the critical chisquare value:_\n",
    "\n",
    "critical_value  = stats.chi2.ppf(1-alpha, dof)\n",
    "\n",
    "\n",
    "# interpret the results :\n",
    "print(f\"Observed data:{observed_data}\")\n",
    "print(f\"Chi2:{chi2}\")\n",
    "print(f\"Critical value :{critical_value}\")\n",
    "\n",
    "# conclusion:_\n",
    "if chi2 > critical_value:\n",
    "    print(\"we reject the null hypothesis (H0);there is a significant association between chocolate preference and country of origin.\")\n",
    "else:\n",
    "    print(\" we accept the null hypothesis (H0);there is no significant association between chocolate preference and country of origin.\")"
   ]
  },
  {
   "cell_type": "markdown",
   "id": "5aa11ecd-2d12-48af-907d-a10f2b5b3aa0",
   "metadata": {},
   "source": [
    "                       -------------------------------------------------------------------"
   ]
  }
 ],
 "metadata": {
  "kernelspec": {
   "display_name": "Python 3 (ipykernel)",
   "language": "python",
   "name": "python3"
  },
  "language_info": {
   "codemirror_mode": {
    "name": "ipython",
    "version": 3
   },
   "file_extension": ".py",
   "mimetype": "text/x-python",
   "name": "python",
   "nbconvert_exporter": "python",
   "pygments_lexer": "ipython3",
   "version": "3.10.8"
  }
 },
 "nbformat": 4,
 "nbformat_minor": 5
}
